{
 "cells": [
  {
   "cell_type": "code",
   "execution_count": null,
   "metadata": {},
   "outputs": [],
   "source": [
    "# Import libraries\n",
    "from openai import OpenAI\n",
    "import pandas as pd\n",
    "import re"
   ]
  },
  {
   "cell_type": "code",
   "execution_count": null,
   "metadata": {},
   "outputs": [],
   "source": [
    "# Connect to OpenAI\n",
    "key = #API key\n",
    "client = OpenAI(api_key=key)"
   ]
  },
  {
   "cell_type": "code",
   "execution_count": null,
   "metadata": {},
   "outputs": [],
   "source": [
    "# Load preprocessed data\n",
    "df = pd.read_pickle(\"./../data/df_selection.pkl\")"
   ]
  },
  {
   "cell_type": "code",
   "execution_count": null,
   "metadata": {},
   "outputs": [],
   "source": [
    "# Define function the validate email entires\n",
    "def email_valid(email):\n",
    "  response = client.chat.completions.create(\n",
    "    model=\"gpt-4o-mini\",\n",
    "    messages=[\n",
    "      {\n",
    "        \"role\": \"system\",\n",
    "        \"content\": \"You will be provided with a text message. Please return 1 if you think the message was written by a human, or 0 if you think it was computer generated, represents a calendar invite, or similar.\"\n",
    "      },\n",
    "      {\n",
    "        \"role\": \"user\",\n",
    "        \"content\": f\"{email}\"\n",
    "      }\n",
    "    ],\n",
    "    max_tokens=64,\n",
    "    top_p=1\n",
    "  )\n",
    "\n",
    "  answer = response.choices[0].message.content\n",
    "  return answer == \"1\"\n"
   ]
  },
  {
   "cell_type": "code",
   "execution_count": null,
   "metadata": {},
   "outputs": [],
   "source": [
    "# Define function to label sentences\n",
    "def label_sentence(sentence):\n",
    "  response = client.chat.completions.create(\n",
    "    model=\"gpt-4o-mini\",\n",
    "    messages=[\n",
    "      {\n",
    "        \"role\": \"system\",\n",
    "        \"content\": \"As an expert in corporate communications, analyze the sentiment of the following sentence. Take into account the subtle cues and formalities often present in business emails. Return the label 'p' if you think the message is positive, 'n' if the message is negative or 0 if you think the sentiment of the message is neutral. Provide no explanation, only the label.\"\n",
    "      },\n",
    "      {\n",
    "        \"role\": \"user\",\n",
    "        \"content\": f\"{sentence}\"\n",
    "      }\n",
    "    ],\n",
    "    max_tokens=64,\n",
    "    top_p=1\n",
    "  )\n",
    "\n",
    "  answer = response.choices[0].message.content\n",
    "  return answer"
   ]
  },
  {
   "cell_type": "code",
   "execution_count": null,
   "metadata": {},
   "outputs": [],
   "source": [
    "# Define functions to split messages into sentences\n",
    "def extract_sentences(message_body):    \n",
    "    pattern = r'(?<=[\\?\\.\\!])\\s+'\n",
    "    sentences = [sentence.strip() for sentence in re.split(pattern, message_body)] # split and strip sentences\n",
    "    sentences = [re.sub(r'[ ]{2,}', \" \", sentence) for sentence in sentences] # remove multiple spaces\n",
    "    sentences = [sentence for sentence in sentences if len(sentence) > 10] # filter out short sentences\n",
    "    return sentences"
   ]
  },
  {
   "cell_type": "code",
   "execution_count": null,
   "metadata": {},
   "outputs": [],
   "source": [
    "# Run the pipeline \n",
    "count = 1\n",
    "labeled = []\n",
    "\n",
    "for i, row in df.iterrows():\n",
    "    print(\"Processing email\", count, \"of\", len(df))\n",
    "    print(row[\"body_new\"])  \n",
    "    valid = email_valid(row[\"body_new\"])\n",
    "    if not valid:\n",
    "        print(\"Email not valid\")\n",
    "        continue\n",
    "\n",
    "    sentences = extract_sentences(row[\"body_new\"])\n",
    "    print(\"Extracted\", len(sentences), \"sentences:\", sentences)\n",
    "    for sentence in sentences:\n",
    "        label = label_sentence(sentence)\n",
    "        labeled.append({\"Message-ID\": row[\"Message-ID\"], \"sentence\": sentence, \"label\": label})\n",
    "\n",
    "    if count % 10 == 0:\n",
    "        print(f\"Processed {count} emails, saving...\")\n",
    "        pd.DataFrame(labeled).to_csv(f\"./../data/df_labeled.csv\")\n",
    "\n",
    "    count += 1    \n",
    "    print(\"=====================================\")\n",
    "\n"
   ]
  },
  {
   "cell_type": "code",
   "execution_count": null,
   "metadata": {},
   "outputs": [],
   "source": [
    "# Save labeled data\n",
    "df_labeled = pd.read_csv(\"./../data/df_labeled.csv\")"
   ]
  },
  {
   "cell_type": "code",
   "execution_count": null,
   "metadata": {},
   "outputs": [],
   "source": [
    "# Further filtering\n",
    "\n",
    "# Remove rows where \"sentence\" is less than 30 characters\n",
    "df_labeled = df_labeled[df_labeled['sentence'].str.len() >= 30]\n",
    "\n",
    "# Remove rows that contain a date in the format dd/mm/yyyy\n",
    "df_labeled = df_labeled[~df_labeled['sentence'].str.contains(r'\\b\\d{2}/\\d{2}/\\d{4}\\b')]\n",
    "\n",
    "df_labeled.to_csv(\"./../data/df_labeled_filtered.csv\")"
   ]
  }
 ],
 "metadata": {
  "kernelspec": {
   "display_name": "HS24_EssNLP",
   "language": "python",
   "name": "python3"
  },
  "language_info": {
   "codemirror_mode": {
    "name": "ipython",
    "version": 3
   },
   "file_extension": ".py",
   "mimetype": "text/x-python",
   "name": "python",
   "nbconvert_exporter": "python",
   "pygments_lexer": "ipython3",
   "version": "3.11.10"
  }
 },
 "nbformat": 4,
 "nbformat_minor": 2
}
