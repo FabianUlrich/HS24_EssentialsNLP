{
 "cells": [
  {
   "cell_type": "code",
   "execution_count": 1,
   "metadata": {},
   "outputs": [],
   "source": [
    "import pandas as pd \n",
    "import re\n",
    "import email"
   ]
  },
  {
   "cell_type": "code",
   "execution_count": 2,
   "metadata": {},
   "outputs": [],
   "source": [
    "#Loading File\n",
    "df = pd.read_csv(\"Data/emails.csv\")"
   ]
  },
  {
   "cell_type": "code",
   "execution_count": 3,
   "metadata": {},
   "outputs": [],
   "source": [
    "# create list of email objects\n",
    "emails = list(map(email.parser.Parser().parsestr,df['message']))\n",
    "\n",
    "# extract headings such as subject, from, to etc..\n",
    "headings  = emails[0].keys()\n",
    "\n",
    "# Goes through each email and grabs info for each key\n",
    "# doc['From'] grabs who sent email in all emails\n",
    "for key in headings:\n",
    "    df[key] = [doc[key] for doc in emails]"
   ]
  },
  {
   "cell_type": "code",
   "execution_count": 4,
   "metadata": {},
   "outputs": [
    {
     "data": {
      "text/html": [
       "<div>\n",
       "<style scoped>\n",
       "    .dataframe tbody tr th:only-of-type {\n",
       "        vertical-align: middle;\n",
       "    }\n",
       "\n",
       "    .dataframe tbody tr th {\n",
       "        vertical-align: top;\n",
       "    }\n",
       "\n",
       "    .dataframe thead th {\n",
       "        text-align: right;\n",
       "    }\n",
       "</style>\n",
       "<table border=\"1\" class=\"dataframe\">\n",
       "  <thead>\n",
       "    <tr style=\"text-align: right;\">\n",
       "      <th></th>\n",
       "      <th>file</th>\n",
       "      <th>message</th>\n",
       "      <th>Message-ID</th>\n",
       "      <th>Date</th>\n",
       "      <th>From</th>\n",
       "      <th>To</th>\n",
       "      <th>Subject</th>\n",
       "      <th>Mime-Version</th>\n",
       "      <th>Content-Type</th>\n",
       "      <th>Content-Transfer-Encoding</th>\n",
       "      <th>X-From</th>\n",
       "      <th>X-To</th>\n",
       "      <th>X-cc</th>\n",
       "      <th>X-bcc</th>\n",
       "      <th>X-Folder</th>\n",
       "      <th>X-Origin</th>\n",
       "      <th>X-FileName</th>\n",
       "    </tr>\n",
       "  </thead>\n",
       "  <tbody>\n",
       "    <tr>\n",
       "      <th>0</th>\n",
       "      <td>allen-p/_sent_mail/1.</td>\n",
       "      <td>Message-ID: &lt;18782981.1075855378110.JavaMail.e...</td>\n",
       "      <td>&lt;18782981.1075855378110.JavaMail.evans@thyme&gt;</td>\n",
       "      <td>Mon, 14 May 2001 16:39:00 -0700 (PDT)</td>\n",
       "      <td>phillip.allen@enron.com</td>\n",
       "      <td>tim.belden@enron.com</td>\n",
       "      <td></td>\n",
       "      <td>1.0</td>\n",
       "      <td>text/plain; charset=us-ascii</td>\n",
       "      <td>7bit</td>\n",
       "      <td>Phillip K Allen</td>\n",
       "      <td>Tim Belden &lt;Tim Belden/Enron@EnronXGate&gt;</td>\n",
       "      <td></td>\n",
       "      <td></td>\n",
       "      <td>\\Phillip_Allen_Jan2002_1\\Allen, Phillip K.\\'Se...</td>\n",
       "      <td>Allen-P</td>\n",
       "      <td>pallen (Non-Privileged).pst</td>\n",
       "    </tr>\n",
       "    <tr>\n",
       "      <th>1</th>\n",
       "      <td>allen-p/_sent_mail/10.</td>\n",
       "      <td>Message-ID: &lt;15464986.1075855378456.JavaMail.e...</td>\n",
       "      <td>&lt;15464986.1075855378456.JavaMail.evans@thyme&gt;</td>\n",
       "      <td>Fri, 4 May 2001 13:51:00 -0700 (PDT)</td>\n",
       "      <td>phillip.allen@enron.com</td>\n",
       "      <td>john.lavorato@enron.com</td>\n",
       "      <td>Re:</td>\n",
       "      <td>1.0</td>\n",
       "      <td>text/plain; charset=us-ascii</td>\n",
       "      <td>7bit</td>\n",
       "      <td>Phillip K Allen</td>\n",
       "      <td>John J Lavorato &lt;John J Lavorato/ENRON@enronXg...</td>\n",
       "      <td></td>\n",
       "      <td></td>\n",
       "      <td>\\Phillip_Allen_Jan2002_1\\Allen, Phillip K.\\'Se...</td>\n",
       "      <td>Allen-P</td>\n",
       "      <td>pallen (Non-Privileged).pst</td>\n",
       "    </tr>\n",
       "    <tr>\n",
       "      <th>2</th>\n",
       "      <td>allen-p/_sent_mail/100.</td>\n",
       "      <td>Message-ID: &lt;24216240.1075855687451.JavaMail.e...</td>\n",
       "      <td>&lt;24216240.1075855687451.JavaMail.evans@thyme&gt;</td>\n",
       "      <td>Wed, 18 Oct 2000 03:00:00 -0700 (PDT)</td>\n",
       "      <td>phillip.allen@enron.com</td>\n",
       "      <td>leah.arsdall@enron.com</td>\n",
       "      <td>Re: test</td>\n",
       "      <td>1.0</td>\n",
       "      <td>text/plain; charset=us-ascii</td>\n",
       "      <td>7bit</td>\n",
       "      <td>Phillip K Allen</td>\n",
       "      <td>Leah Van Arsdall</td>\n",
       "      <td></td>\n",
       "      <td></td>\n",
       "      <td>\\Phillip_Allen_Dec2000\\Notes Folders\\'sent mail</td>\n",
       "      <td>Allen-P</td>\n",
       "      <td>pallen.nsf</td>\n",
       "    </tr>\n",
       "    <tr>\n",
       "      <th>3</th>\n",
       "      <td>allen-p/_sent_mail/1000.</td>\n",
       "      <td>Message-ID: &lt;13505866.1075863688222.JavaMail.e...</td>\n",
       "      <td>&lt;13505866.1075863688222.JavaMail.evans@thyme&gt;</td>\n",
       "      <td>Mon, 23 Oct 2000 06:13:00 -0700 (PDT)</td>\n",
       "      <td>phillip.allen@enron.com</td>\n",
       "      <td>randall.gay@enron.com</td>\n",
       "      <td></td>\n",
       "      <td>1.0</td>\n",
       "      <td>text/plain; charset=us-ascii</td>\n",
       "      <td>7bit</td>\n",
       "      <td>Phillip K Allen</td>\n",
       "      <td>Randall L Gay</td>\n",
       "      <td></td>\n",
       "      <td></td>\n",
       "      <td>\\Phillip_Allen_Dec2000\\Notes Folders\\'sent mail</td>\n",
       "      <td>Allen-P</td>\n",
       "      <td>pallen.nsf</td>\n",
       "    </tr>\n",
       "    <tr>\n",
       "      <th>4</th>\n",
       "      <td>allen-p/_sent_mail/1001.</td>\n",
       "      <td>Message-ID: &lt;30922949.1075863688243.JavaMail.e...</td>\n",
       "      <td>&lt;30922949.1075863688243.JavaMail.evans@thyme&gt;</td>\n",
       "      <td>Thu, 31 Aug 2000 05:07:00 -0700 (PDT)</td>\n",
       "      <td>phillip.allen@enron.com</td>\n",
       "      <td>greg.piper@enron.com</td>\n",
       "      <td>Re: Hello</td>\n",
       "      <td>1.0</td>\n",
       "      <td>text/plain; charset=us-ascii</td>\n",
       "      <td>7bit</td>\n",
       "      <td>Phillip K Allen</td>\n",
       "      <td>Greg Piper</td>\n",
       "      <td></td>\n",
       "      <td></td>\n",
       "      <td>\\Phillip_Allen_Dec2000\\Notes Folders\\'sent mail</td>\n",
       "      <td>Allen-P</td>\n",
       "      <td>pallen.nsf</td>\n",
       "    </tr>\n",
       "  </tbody>\n",
       "</table>\n",
       "</div>"
      ],
      "text/plain": [
       "                       file  \\\n",
       "0     allen-p/_sent_mail/1.   \n",
       "1    allen-p/_sent_mail/10.   \n",
       "2   allen-p/_sent_mail/100.   \n",
       "3  allen-p/_sent_mail/1000.   \n",
       "4  allen-p/_sent_mail/1001.   \n",
       "\n",
       "                                             message  \\\n",
       "0  Message-ID: <18782981.1075855378110.JavaMail.e...   \n",
       "1  Message-ID: <15464986.1075855378456.JavaMail.e...   \n",
       "2  Message-ID: <24216240.1075855687451.JavaMail.e...   \n",
       "3  Message-ID: <13505866.1075863688222.JavaMail.e...   \n",
       "4  Message-ID: <30922949.1075863688243.JavaMail.e...   \n",
       "\n",
       "                                      Message-ID  \\\n",
       "0  <18782981.1075855378110.JavaMail.evans@thyme>   \n",
       "1  <15464986.1075855378456.JavaMail.evans@thyme>   \n",
       "2  <24216240.1075855687451.JavaMail.evans@thyme>   \n",
       "3  <13505866.1075863688222.JavaMail.evans@thyme>   \n",
       "4  <30922949.1075863688243.JavaMail.evans@thyme>   \n",
       "\n",
       "                                    Date                     From  \\\n",
       "0  Mon, 14 May 2001 16:39:00 -0700 (PDT)  phillip.allen@enron.com   \n",
       "1   Fri, 4 May 2001 13:51:00 -0700 (PDT)  phillip.allen@enron.com   \n",
       "2  Wed, 18 Oct 2000 03:00:00 -0700 (PDT)  phillip.allen@enron.com   \n",
       "3  Mon, 23 Oct 2000 06:13:00 -0700 (PDT)  phillip.allen@enron.com   \n",
       "4  Thu, 31 Aug 2000 05:07:00 -0700 (PDT)  phillip.allen@enron.com   \n",
       "\n",
       "                        To    Subject Mime-Version  \\\n",
       "0     tim.belden@enron.com                     1.0   \n",
       "1  john.lavorato@enron.com        Re:          1.0   \n",
       "2   leah.arsdall@enron.com   Re: test          1.0   \n",
       "3    randall.gay@enron.com                     1.0   \n",
       "4     greg.piper@enron.com  Re: Hello          1.0   \n",
       "\n",
       "                   Content-Type Content-Transfer-Encoding           X-From  \\\n",
       "0  text/plain; charset=us-ascii                      7bit  Phillip K Allen   \n",
       "1  text/plain; charset=us-ascii                      7bit  Phillip K Allen   \n",
       "2  text/plain; charset=us-ascii                      7bit  Phillip K Allen   \n",
       "3  text/plain; charset=us-ascii                      7bit  Phillip K Allen   \n",
       "4  text/plain; charset=us-ascii                      7bit  Phillip K Allen   \n",
       "\n",
       "                                                X-To X-cc X-bcc  \\\n",
       "0           Tim Belden <Tim Belden/Enron@EnronXGate>              \n",
       "1  John J Lavorato <John J Lavorato/ENRON@enronXg...              \n",
       "2                                   Leah Van Arsdall              \n",
       "3                                      Randall L Gay              \n",
       "4                                         Greg Piper              \n",
       "\n",
       "                                            X-Folder X-Origin  \\\n",
       "0  \\Phillip_Allen_Jan2002_1\\Allen, Phillip K.\\'Se...  Allen-P   \n",
       "1  \\Phillip_Allen_Jan2002_1\\Allen, Phillip K.\\'Se...  Allen-P   \n",
       "2    \\Phillip_Allen_Dec2000\\Notes Folders\\'sent mail  Allen-P   \n",
       "3    \\Phillip_Allen_Dec2000\\Notes Folders\\'sent mail  Allen-P   \n",
       "4    \\Phillip_Allen_Dec2000\\Notes Folders\\'sent mail  Allen-P   \n",
       "\n",
       "                    X-FileName  \n",
       "0  pallen (Non-Privileged).pst  \n",
       "1  pallen (Non-Privileged).pst  \n",
       "2                   pallen.nsf  \n",
       "3                   pallen.nsf  \n",
       "4                   pallen.nsf  "
      ]
     },
     "execution_count": 4,
     "metadata": {},
     "output_type": "execute_result"
    }
   ],
   "source": [
    "df.head()"
   ]
  },
  {
   "cell_type": "code",
   "execution_count": 5,
   "metadata": {},
   "outputs": [],
   "source": [
    "# Function to get the raw text from the email\n",
    "def get_raw_text(emails):\n",
    "    email_text = []\n",
    "    for email in emails.walk():\n",
    "        if email.get_content_type() == 'text/plain':\n",
    "            email_text.append(email.get_payload())\n",
    "    return ''.join(email_text)\n",
    "\n",
    "df['body'] = list(map(get_raw_text, emails))\n",
    "df.head()\n",
    "df['user'] = df['file'].map(lambda x: x.split('/')[0])"
   ]
  },
  {
   "cell_type": "code",
   "execution_count": 6,
   "metadata": {},
   "outputs": [
    {
     "name": "stderr",
     "output_type": "stream",
     "text": [
      "<>:9: SyntaxWarning: invalid escape sequence '\\['\n",
      "<>:9: SyntaxWarning: invalid escape sequence '\\['\n",
      "/var/folders/tv/p9y5281j6zq5phnf4p1l47dw0000gn/T/ipykernel_49775/4253332173.py:9: SyntaxWarning: invalid escape sequence '\\['\n",
      "  data =re.sub('\\[[^]]*\\]', '', data)\n"
     ]
    }
   ],
   "source": [
    "def clean_column(data):\n",
    "    if data is not None:\n",
    "\n",
    "        # Remove new line characters and mail headers\n",
    "        data = re.sub('re:', '', data)\n",
    "        data = re.sub('-', '', data)\n",
    "        data = re.sub('_', '', data)\n",
    "        # Remove data between square brackets and new line characters\n",
    "        data =re.sub('\\[[^]]*\\]', '', data)\n",
    "        data = re.sub(r'\\n',' ',data)\n",
    "        # strip html \n",
    "        p = re.compile(r'<.*?>')\n",
    "        data = re.sub(r\"\\'ve\", \" have \", data)\n",
    "        data = re.sub(r\"can't\", \"cannot \", data)\n",
    "        data = re.sub(r\"n't\", \" not \", data)\n",
    "        data = re.sub(r\"I'm\", \"I am\", data)\n",
    "        data = re.sub(r\" m \", \" am \", data)\n",
    "        data = re.sub(r\"\\'re\", \" are \", data)\n",
    "        data = re.sub(r\"\\'d\", \" would \", data)\n",
    "        data = re.sub(r\"\\'ll\", \" will \", data)\n",
    "        data = re.sub('forwarded by phillip k allenhouect on    pm', '',data)\n",
    "        data = re.sub(r\"httpitcappscorpenroncomsrrsauthemaillinkaspidpage\", \"\", data)\n",
    "        \n",
    "        data = p.sub('', data)\n",
    "        if 'forwarded by:' in data:\n",
    "            data = data.split('subject')[1]\n",
    "        data = data.strip()\n",
    "        return data\n",
    "    return 'No Subject'\n",
    "\n",
    "\n",
    "df['Subject_new'] = df['Subject'].apply(clean_column)\n",
    "df['body_new'] = df['body'].apply(clean_column)"
   ]
  },
  {
   "cell_type": "code",
   "execution_count": null,
   "metadata": {},
   "outputs": [],
   "source": []
  },
  {
   "cell_type": "code",
   "execution_count": 7,
   "metadata": {},
   "outputs": [],
   "source": [
    "# Selecting rows to drop after looking at the data\n",
    "drop_list = []\n",
    "for i in df['body_new'].index:\n",
    "    if \"\\t\" in df['body_new'][i]:\n",
    "        drop_list.append(i)\n",
    "    if (\"Forwarded by\" in df['body_new'][i]) or (\"forwarded by\" in df['body_new'][i]):\n",
    "        drop_list.append(i)\n",
    "    if \"Outlook Migration Team@ENRON\" in df['body_new'][i]:\n",
    "        drop_list.append(i)\n",
    "    if (\"=09\" in df['body_new'][i]) or (\"=20\" in df['body_new'][i]):\n",
    "        drop_list.append(i)"
   ]
  },
  {
   "cell_type": "code",
   "execution_count": 8,
   "metadata": {},
   "outputs": [
    {
     "data": {
      "text/plain": [
       "257573"
      ]
     },
     "execution_count": 8,
     "metadata": {},
     "output_type": "execute_result"
    }
   ],
   "source": [
    "# Dropping a lot of rows since we do not need a large dataset\n",
    "len(drop_list)"
   ]
  },
  {
   "cell_type": "code",
   "execution_count": 9,
   "metadata": {},
   "outputs": [],
   "source": [
    "# Droping the rows\n",
    "df.drop(df.index[drop_list], inplace=True)"
   ]
  },
  {
   "cell_type": "code",
   "execution_count": null,
   "metadata": {},
   "outputs": [],
   "source": [
    "# Manually looking at the data to see if more cleaning is needed\n",
    "for x in df['body_new'][:1000]:\n",
    "\n",
    "    print(x)\n",
    "    print(\"===============\")"
   ]
  },
  {
   "cell_type": "code",
   "execution_count": 11,
   "metadata": {},
   "outputs": [
    {
     "data": {
      "text/plain": [
       "From\n",
       "pete.davis@enron.com             9143\n",
       "kay.mann@enron.com               8331\n",
       "vince.kaminski@enron.com         5648\n",
       "jeff.dasovich@enron.com          5519\n",
       "enron.announcements@enron.com    5446\n",
       "chris.germany@enron.com          5197\n",
       "matthew.lenhart@enron.com        4119\n",
       "kate.symes@enron.com             4117\n",
       "tana.jones@enron.com             3652\n",
       "debra.perlingiere@enron.com      3633\n",
       "sara.shackleton@enron.com        3543\n",
       "eric.bass@enron.com              3184\n",
       "benjamin.rogers@enron.com        2858\n",
       "no.address@enron.com             2659\n",
       "susan.scott@enron.com            2649\n",
       "john.arnold@enron.com            2296\n",
       "gerald.nemec@enron.com           2229\n",
       "robin.rodrigue@enron.com         2138\n",
       "sally.beck@enron.com             2024\n",
       "phillip.love@enron.com           2018\n",
       "Name: count, dtype: int64"
      ]
     },
     "execution_count": 11,
     "metadata": {},
     "output_type": "execute_result"
    }
   ],
   "source": [
    "#Show the top 20 value counts\n",
    "df[\"From\"].value_counts().head(20)"
   ]
  },
  {
   "cell_type": "code",
   "execution_count": 12,
   "metadata": {},
   "outputs": [],
   "source": [
    "# Create dataframe with mails from the top 18 senders of the company to avoid advertising and automated messages\n",
    "top_adresses = list(df[\"From\"].value_counts().head(20).index)\n",
    "top_adresses.remove('enron.announcements@enron.com')\n",
    "top_adresses.remove('no.address@enron.com')\n",
    "df_top = df[df[\"From\"].isin(top_adresses)]"
   ]
  },
  {
   "cell_type": "code",
   "execution_count": null,
   "metadata": {},
   "outputs": [],
   "source": [
    "# Manually looking at the data to see if more cleaning is needed\n",
    "for x in df_top['body_new'][:1000]:\n",
    "\n",
    "    print(x)\n",
    "    print(\"===============\")"
   ]
  },
  {
   "cell_type": "code",
   "execution_count": 14,
   "metadata": {},
   "outputs": [],
   "source": [
    "#export as pickle file\n",
    "df_top.to_pickle(\"Data/df_selection.pkl\")"
   ]
  }
 ],
 "metadata": {
  "kernelspec": {
   "display_name": "NLP_Essentials",
   "language": "python",
   "name": "python3"
  },
  "language_info": {
   "codemirror_mode": {
    "name": "ipython",
    "version": 3
   },
   "file_extension": ".py",
   "mimetype": "text/x-python",
   "name": "python",
   "nbconvert_exporter": "python",
   "pygments_lexer": "ipython3",
   "version": "3.12.7"
  }
 },
 "nbformat": 4,
 "nbformat_minor": 2
}
